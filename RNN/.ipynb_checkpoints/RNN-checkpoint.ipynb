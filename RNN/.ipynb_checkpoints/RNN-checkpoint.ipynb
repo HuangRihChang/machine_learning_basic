{
 "cells": [
  {
   "cell_type": "code",
   "execution_count": 1,
   "metadata": {},
   "outputs": [],
   "source": [
    "import pandas as pd\n",
    "import numpy as np\n",
    "from sklearn.preprocessing import MinMaxScaler\n",
    "from sklearn.metrics import mean_squared_error\n",
    "from sklearn.model_selection import train_test_split\n",
    "from sklearn.metrics import confusion_matrix\n",
    "from sklearn.metrics import classification_report\n",
    "\n",
    "import matplotlib.pyplot as plt\n",
    "%matplotlib inline"
   ]
  },
  {
   "cell_type": "code",
   "execution_count": 2,
   "metadata": {},
   "outputs": [
    {
     "data": {
      "text/html": [
       "<div>\n",
       "<style scoped>\n",
       "    .dataframe tbody tr th:only-of-type {\n",
       "        vertical-align: middle;\n",
       "    }\n",
       "\n",
       "    .dataframe tbody tr th {\n",
       "        vertical-align: top;\n",
       "    }\n",
       "\n",
       "    .dataframe thead th {\n",
       "        text-align: right;\n",
       "    }\n",
       "</style>\n",
       "<table border=\"1\" class=\"dataframe\">\n",
       "  <thead>\n",
       "    <tr style=\"text-align: right;\">\n",
       "      <th></th>\n",
       "      <th>Open</th>\n",
       "      <th>High</th>\n",
       "      <th>Low</th>\n",
       "      <th>Close</th>\n",
       "      <th>Volume</th>\n",
       "      <th>body</th>\n",
       "      <th>upper_tail</th>\n",
       "      <th>lower_tail</th>\n",
       "      <th>up_down</th>\n",
       "    </tr>\n",
       "  </thead>\n",
       "  <tbody>\n",
       "    <tr>\n",
       "      <td>0</td>\n",
       "      <td>1.45865</td>\n",
       "      <td>1.45885</td>\n",
       "      <td>1.45856</td>\n",
       "      <td>1.45873</td>\n",
       "      <td>5004.3375</td>\n",
       "      <td>0.8</td>\n",
       "      <td>1.2</td>\n",
       "      <td>0.9</td>\n",
       "      <td>0</td>\n",
       "    </tr>\n",
       "    <tr>\n",
       "      <td>1</td>\n",
       "      <td>1.45883</td>\n",
       "      <td>1.45883</td>\n",
       "      <td>1.45847</td>\n",
       "      <td>1.45863</td>\n",
       "      <td>4649.9000</td>\n",
       "      <td>-2.0</td>\n",
       "      <td>0.0</td>\n",
       "      <td>1.6</td>\n",
       "      <td>1</td>\n",
       "    </tr>\n",
       "    <tr>\n",
       "      <td>2</td>\n",
       "      <td>1.45863</td>\n",
       "      <td>1.45896</td>\n",
       "      <td>1.45845</td>\n",
       "      <td>1.45886</td>\n",
       "      <td>5283.9500</td>\n",
       "      <td>2.3</td>\n",
       "      <td>1.0</td>\n",
       "      <td>1.8</td>\n",
       "      <td>1</td>\n",
       "    </tr>\n",
       "    <tr>\n",
       "      <td>3</td>\n",
       "      <td>1.45865</td>\n",
       "      <td>1.45905</td>\n",
       "      <td>1.45842</td>\n",
       "      <td>1.45895</td>\n",
       "      <td>5370.3375</td>\n",
       "      <td>3.0</td>\n",
       "      <td>1.0</td>\n",
       "      <td>2.3</td>\n",
       "      <td>0</td>\n",
       "    </tr>\n",
       "    <tr>\n",
       "      <td>4</td>\n",
       "      <td>1.45902</td>\n",
       "      <td>1.45905</td>\n",
       "      <td>1.45857</td>\n",
       "      <td>1.45887</td>\n",
       "      <td>3738.9375</td>\n",
       "      <td>-1.5</td>\n",
       "      <td>0.3</td>\n",
       "      <td>3.0</td>\n",
       "      <td>1</td>\n",
       "    </tr>\n",
       "    <tr>\n",
       "      <td>...</td>\n",
       "      <td>...</td>\n",
       "      <td>...</td>\n",
       "      <td>...</td>\n",
       "      <td>...</td>\n",
       "      <td>...</td>\n",
       "      <td>...</td>\n",
       "      <td>...</td>\n",
       "      <td>...</td>\n",
       "      <td>...</td>\n",
       "    </tr>\n",
       "    <tr>\n",
       "      <td>995</td>\n",
       "      <td>1.47687</td>\n",
       "      <td>1.47701</td>\n",
       "      <td>1.47598</td>\n",
       "      <td>1.47622</td>\n",
       "      <td>2200.4000</td>\n",
       "      <td>-6.5</td>\n",
       "      <td>1.4</td>\n",
       "      <td>2.4</td>\n",
       "      <td>1</td>\n",
       "    </tr>\n",
       "    <tr>\n",
       "      <td>996</td>\n",
       "      <td>1.47626</td>\n",
       "      <td>1.47678</td>\n",
       "      <td>1.47595</td>\n",
       "      <td>1.47632</td>\n",
       "      <td>1416.6000</td>\n",
       "      <td>0.6</td>\n",
       "      <td>4.6</td>\n",
       "      <td>3.1</td>\n",
       "      <td>1</td>\n",
       "    </tr>\n",
       "    <tr>\n",
       "      <td>997</td>\n",
       "      <td>1.47627</td>\n",
       "      <td>1.47709</td>\n",
       "      <td>1.47603</td>\n",
       "      <td>1.47692</td>\n",
       "      <td>1418.7000</td>\n",
       "      <td>6.5</td>\n",
       "      <td>1.7</td>\n",
       "      <td>2.4</td>\n",
       "      <td>1</td>\n",
       "    </tr>\n",
       "    <tr>\n",
       "      <td>998</td>\n",
       "      <td>1.47700</td>\n",
       "      <td>1.47756</td>\n",
       "      <td>1.47657</td>\n",
       "      <td>1.47732</td>\n",
       "      <td>1718.9000</td>\n",
       "      <td>3.2</td>\n",
       "      <td>2.4</td>\n",
       "      <td>4.3</td>\n",
       "      <td>0</td>\n",
       "    </tr>\n",
       "    <tr>\n",
       "      <td>999</td>\n",
       "      <td>1.47728</td>\n",
       "      <td>1.47747</td>\n",
       "      <td>1.47696</td>\n",
       "      <td>1.47710</td>\n",
       "      <td>1161.3000</td>\n",
       "      <td>-1.8</td>\n",
       "      <td>1.9</td>\n",
       "      <td>1.4</td>\n",
       "      <td>0</td>\n",
       "    </tr>\n",
       "  </tbody>\n",
       "</table>\n",
       "<p>1000 rows × 9 columns</p>\n",
       "</div>"
      ],
      "text/plain": [
       "        Open     High      Low    Close     Volume  body  upper_tail  \\\n",
       "0    1.45865  1.45885  1.45856  1.45873  5004.3375   0.8         1.2   \n",
       "1    1.45883  1.45883  1.45847  1.45863  4649.9000  -2.0         0.0   \n",
       "2    1.45863  1.45896  1.45845  1.45886  5283.9500   2.3         1.0   \n",
       "3    1.45865  1.45905  1.45842  1.45895  5370.3375   3.0         1.0   \n",
       "4    1.45902  1.45905  1.45857  1.45887  3738.9375  -1.5         0.3   \n",
       "..       ...      ...      ...      ...        ...   ...         ...   \n",
       "995  1.47687  1.47701  1.47598  1.47622  2200.4000  -6.5         1.4   \n",
       "996  1.47626  1.47678  1.47595  1.47632  1416.6000   0.6         4.6   \n",
       "997  1.47627  1.47709  1.47603  1.47692  1418.7000   6.5         1.7   \n",
       "998  1.47700  1.47756  1.47657  1.47732  1718.9000   3.2         2.4   \n",
       "999  1.47728  1.47747  1.47696  1.47710  1161.3000  -1.8         1.9   \n",
       "\n",
       "     lower_tail  up_down  \n",
       "0           0.9        0  \n",
       "1           1.6        1  \n",
       "2           1.8        1  \n",
       "3           2.3        0  \n",
       "4           3.0        1  \n",
       "..          ...      ...  \n",
       "995         2.4        1  \n",
       "996         3.1        1  \n",
       "997         2.4        1  \n",
       "998         4.3        0  \n",
       "999         1.4        0  \n",
       "\n",
       "[1000 rows x 9 columns]"
      ]
     },
     "execution_count": 2,
     "metadata": {},
     "output_type": "execute_result"
    }
   ],
   "source": [
    "df =pd.read_csv('./isods_train_small_1000.csv')\n",
    "df"
   ]
  },
  {
   "cell_type": "code",
   "execution_count": 3,
   "metadata": {},
   "outputs": [],
   "source": [
    "# convert an array of values into a dataset matrix\n",
    "def create_dataset(dataset, look_back=10, is_test = False):\n",
    "    dataX, dataY_Regression, dataY_Classification = [], [], []\n",
    "    \n",
    "    if(is_test):\n",
    "        X = dataset\n",
    "    else:\n",
    "        X = dataset[:,0:-1]\n",
    "        Y_C = dataset[:,-1]\n",
    "      \n",
    "    if not (is_test):\n",
    "        close = np.expand_dims(dataset[:,3], axis=1)\n",
    "        close_scaler = MinMaxScaler(copy=True,feature_range=(0, 1))\n",
    "        close_scaler.fit(close)    \n",
    "        scaler = MinMaxScaler(copy=True,feature_range=(0, 1))\n",
    "        X = scaler.fit_transform(X)\n",
    "    \n",
    "    for i in range(len(dataset)-look_back):\n",
    "        if(is_test):\n",
    "            a = X[i:(i+look_back),:]\n",
    "            dataX.append(a)\n",
    "            dataY_Regression.append(X[i + look_back, 3])\n",
    "            \n",
    "            if(i + look_back < len(X) - 1):\n",
    "                if(X[i + look_back + 1, 3] > X[i + look_back, 3]): #TODO:\n",
    "                    dataY_Classification.append([1,0])\n",
    "                else:\n",
    "                    dataY_Classification.append([0,1])\n",
    "            else:\n",
    "                dataY_Classification.append([1,0])       \n",
    "        else:\n",
    "            a = X[i:(i+look_back),:]\n",
    "            dataX.append(a)\n",
    "            dataY_Regression.append(X[i + look_back, 3])\n",
    "            \n",
    "            if(Y_C[i + look_back - 1] == 1):\n",
    "                dataY_Classification.append([1,0])\n",
    "            else:\n",
    "                dataY_Classification.append([0,1])\n",
    "    \n",
    "    if (is_test):\n",
    "        return np.array(dataX), np.array(dataY_Regression), np.array(dataY_Classification)\n",
    "    else:\n",
    "        return np.array(dataX), np.array(dataY_Regression), np.array(dataY_Classification), scaler, close_scaler"
   ]
  },
  {
   "cell_type": "code",
   "execution_count": 32,
   "metadata": {},
   "outputs": [],
   "source": [
    "def plot_confusion_matrix(cm,\n",
    "                          target_names,\n",
    "                          title='Confusion matrix',\n",
    "                          cmap=None,\n",
    "                          normalize=True):\n",
    "\n",
    "    import matplotlib.pyplot as plt\n",
    "    import numpy as np\n",
    "    import itertools\n",
    "\n",
    "    accuracy = np.trace(cm) / float(np.sum(cm))\n",
    "    misclass = 1 - accuracy\n",
    "\n",
    "    if cmap is None:\n",
    "        cmap = plt.get_cmap('Blues')\n",
    "\n",
    "    plt.figure(figsize=(8, 6))\n",
    "    plt.imshow(cm, interpolation='nearest', cmap=cmap)\n",
    "    plt.title(title)\n",
    "    plt.colorbar()\n",
    "\n",
    "    if target_names is not None:\n",
    "        tick_marks = np.arange(len(target_names))\n",
    "        plt.xticks(tick_marks, target_names, rotation=45)\n",
    "        plt.yticks(tick_marks, target_names)\n",
    "\n",
    "    if normalize:\n",
    "        cm = cm.astype('float') / cm.sum(axis=1)[:, np.newaxis]\n",
    "\n",
    "\n",
    "    thresh = cm.max() / 1.5 if normalize else cm.max() / 2\n",
    "    for i, j in itertools.product(range(cm.shape[0]), range(cm.shape[1])):\n",
    "        if normalize:\n",
    "            plt.text(j, i, \"{:0.4f}\".format(cm[i, j]),\n",
    "                     horizontalalignment=\"center\",\n",
    "                     color=\"white\" if cm[i, j] > thresh else \"black\")\n",
    "        else:\n",
    "            plt.text(j, i, \"{:,}\".format(cm[i, j]),\n",
    "                     horizontalalignment=\"center\",\n",
    "                     color=\"white\" if cm[i, j] > thresh else \"black\")\n",
    "\n",
    "\n",
    "    plt.tight_layout()\n",
    "    plt.ylabel('True label')\n",
    "    plt.xlabel('Predicted label\\naccuracy={:0.4f}; misclass={:0.4f}'.format(accuracy, misclass))\n",
    "    plt.show()"
   ]
  },
  {
   "cell_type": "code",
   "execution_count": 4,
   "metadata": {},
   "outputs": [],
   "source": [
    "data_values = df.values\n",
    "data_values = data_values.astype('float32')"
   ]
  },
  {
   "cell_type": "code",
   "execution_count": 5,
   "metadata": {},
   "outputs": [],
   "source": [
    "X, Y_R, Y_C, scaler, close_scaler  = create_dataset(data_values, look_back=10)"
   ]
  },
  {
   "cell_type": "code",
   "execution_count": 6,
   "metadata": {},
   "outputs": [],
   "source": [
    "X_train, X_val, y_train, y_val = train_test_split(X, Y_C,test_size = 0.2)"
   ]
  },
  {
   "cell_type": "code",
   "execution_count": 18,
   "metadata": {},
   "outputs": [],
   "source": [
    "from NeuralNet.Layers import *\n",
    "from NeuralNet.Neuralnet import *\n",
    "from NeuralNet.RNN import *\n",
    "from NeuralNet.Optimizers import *"
   ]
  },
  {
   "cell_type": "code",
   "execution_count": 19,
   "metadata": {},
   "outputs": [],
   "source": [
    "EPOCHS = 50\n",
    "optimizer = Adam(0.0001)\n",
    "loss_func = BinaryCrossEntropy()\n",
    "archs = [\n",
    "    Input(),\n",
    "    SimpleRNN(128, return_sequences=True),\n",
    "    Activation(activation=\"swish\"),\n",
    "    SimpleRNN(128),\n",
    "    Activation(activation=\"swish\"),\n",
    "    Dropout(keep_prob=0.3),\n",
    "    Dense(num_neurons=128, weight_init=\"glorot_normal\"),\n",
    "    Activation(activation=\"swish\"),\n",
    "    Dense(num_neurons=64, weight_init=\"glorot_normal\", use_bias=True),\n",
    "    Activation(activation=\"sigmoid\"),\n",
    "    Dense(num_neurons=2, weight_init=\"glorot_normal\"),\n",
    "    Activation(activation=\"softmax\"),\n",
    "]"
   ]
  },
  {
   "cell_type": "code",
   "execution_count": 20,
   "metadata": {},
   "outputs": [
    {
     "name": "stderr",
     "output_type": "stream",
     "text": [
      "Epoch 1 - Loss: 0.83410: 100%|██████████| 50/50 [00:03<00:00, 14.83it/s]\n"
     ]
    },
    {
     "name": "stdout",
     "output_type": "stream",
     "text": [
      "Loss at epoch 1: 0.83410 - Train accuracy: 0.50758 - Validation loss: 0.76538 - accuracy: 0.52525\n"
     ]
    },
    {
     "name": "stderr",
     "output_type": "stream",
     "text": [
      "Epoch 2 - Loss: 0.74714: 100%|██████████| 50/50 [00:03<00:00, 14.48it/s]\n"
     ]
    },
    {
     "name": "stdout",
     "output_type": "stream",
     "text": [
      "Loss at epoch 2: 0.74714 - Train accuracy: 0.50000 - Validation loss: 0.76958 - accuracy: 0.53535\n"
     ]
    },
    {
     "name": "stderr",
     "output_type": "stream",
     "text": [
      "Epoch 3 - Loss: 0.71404: 100%|██████████| 50/50 [00:03<00:00, 15.13it/s]\n"
     ]
    },
    {
     "name": "stdout",
     "output_type": "stream",
     "text": [
      "Loss at epoch 3: 0.71404 - Train accuracy: 0.49874 - Validation loss: 0.72806 - accuracy: 0.56566\n"
     ]
    },
    {
     "name": "stderr",
     "output_type": "stream",
     "text": [
      "Epoch 4 - Loss: 0.70420: 100%|██████████| 50/50 [00:03<00:00, 13.52it/s]\n"
     ]
    },
    {
     "name": "stdout",
     "output_type": "stream",
     "text": [
      "Loss at epoch 4: 0.70420 - Train accuracy: 0.49874 - Validation loss: 0.66462 - accuracy: 0.54040\n"
     ]
    },
    {
     "name": "stderr",
     "output_type": "stream",
     "text": [
      "Epoch 5 - Loss: 0.71252: 100%|██████████| 50/50 [00:02<00:00, 19.93it/s]\n"
     ]
    },
    {
     "name": "stdout",
     "output_type": "stream",
     "text": [
      "Loss at epoch 5: 0.71252 - Train accuracy: 0.50505 - Validation loss: 0.70884 - accuracy: 0.52525\n"
     ]
    },
    {
     "name": "stderr",
     "output_type": "stream",
     "text": [
      "Epoch 6 - Loss: 0.69574: 100%|██████████| 50/50 [00:02<00:00, 20.09it/s]\n"
     ]
    },
    {
     "name": "stdout",
     "output_type": "stream",
     "text": [
      "Loss at epoch 6: 0.69574 - Train accuracy: 0.49747 - Validation loss: 0.70856 - accuracy: 0.48990\n"
     ]
    },
    {
     "name": "stderr",
     "output_type": "stream",
     "text": [
      "Epoch 7 - Loss: 0.70059: 100%|██████████| 50/50 [00:02<00:00, 19.64it/s]\n"
     ]
    },
    {
     "name": "stdout",
     "output_type": "stream",
     "text": [
      "Loss at epoch 7: 0.70059 - Train accuracy: 0.48359 - Validation loss: 0.69875 - accuracy: 0.51515\n"
     ]
    },
    {
     "name": "stderr",
     "output_type": "stream",
     "text": [
      "Epoch 8 - Loss: 0.70261: 100%|██████████| 50/50 [00:02<00:00, 20.03it/s]\n"
     ]
    },
    {
     "name": "stdout",
     "output_type": "stream",
     "text": [
      "Loss at epoch 8: 0.70261 - Train accuracy: 0.49621 - Validation loss: 0.69692 - accuracy: 0.48485\n"
     ]
    },
    {
     "name": "stderr",
     "output_type": "stream",
     "text": [
      "Epoch 9 - Loss: 0.69869: 100%|██████████| 50/50 [00:02<00:00, 19.78it/s]\n"
     ]
    },
    {
     "name": "stdout",
     "output_type": "stream",
     "text": [
      "Loss at epoch 9: 0.69869 - Train accuracy: 0.50253 - Validation loss: 0.69857 - accuracy: 0.52525\n"
     ]
    },
    {
     "name": "stderr",
     "output_type": "stream",
     "text": [
      "Epoch 10 - Loss: 0.69556: 100%|██████████| 50/50 [00:02<00:00, 17.51it/s]\n"
     ]
    },
    {
     "name": "stdout",
     "output_type": "stream",
     "text": [
      "Loss at epoch 10: 0.69556 - Train accuracy: 0.48611 - Validation loss: 0.69603 - accuracy: 0.54545\n"
     ]
    },
    {
     "name": "stderr",
     "output_type": "stream",
     "text": [
      "Epoch 11 - Loss: 0.69712: 100%|██████████| 50/50 [00:03<00:00, 13.96it/s]\n"
     ]
    },
    {
     "name": "stdout",
     "output_type": "stream",
     "text": [
      "Loss at epoch 11: 0.69712 - Train accuracy: 0.50884 - Validation loss: 0.69964 - accuracy: 0.52020\n"
     ]
    },
    {
     "name": "stderr",
     "output_type": "stream",
     "text": [
      "Epoch 12 - Loss: 0.69525: 100%|██████████| 50/50 [00:03<00:00, 12.77it/s]\n"
     ]
    },
    {
     "name": "stdout",
     "output_type": "stream",
     "text": [
      "Loss at epoch 12: 0.69525 - Train accuracy: 0.48232 - Validation loss: 0.69292 - accuracy: 0.57071\n"
     ]
    },
    {
     "name": "stderr",
     "output_type": "stream",
     "text": [
      "Epoch 13 - Loss: 0.69463: 100%|██████████| 50/50 [00:03<00:00, 15.74it/s]\n"
     ]
    },
    {
     "name": "stdout",
     "output_type": "stream",
     "text": [
      "Loss at epoch 13: 0.69463 - Train accuracy: 0.50253 - Validation loss: 0.69456 - accuracy: 0.53030\n"
     ]
    },
    {
     "name": "stderr",
     "output_type": "stream",
     "text": [
      "Epoch 14 - Loss: 0.69457: 100%|██████████| 50/50 [00:03<00:00, 13.58it/s]\n"
     ]
    },
    {
     "name": "stdout",
     "output_type": "stream",
     "text": [
      "Loss at epoch 14: 0.69457 - Train accuracy: 0.53283 - Validation loss: 0.69198 - accuracy: 0.53030\n"
     ]
    },
    {
     "name": "stderr",
     "output_type": "stream",
     "text": [
      "Epoch 15 - Loss: 0.69606: 100%|██████████| 50/50 [00:03<00:00, 15.31it/s]\n"
     ]
    },
    {
     "name": "stdout",
     "output_type": "stream",
     "text": [
      "Loss at epoch 15: 0.69606 - Train accuracy: 0.50505 - Validation loss: 0.69398 - accuracy: 0.50000\n"
     ]
    },
    {
     "name": "stderr",
     "output_type": "stream",
     "text": [
      "Epoch 16 - Loss: 0.69259: 100%|██████████| 50/50 [00:03<00:00, 16.52it/s]\n"
     ]
    },
    {
     "name": "stdout",
     "output_type": "stream",
     "text": [
      "Loss at epoch 16: 0.69259 - Train accuracy: 0.51010 - Validation loss: 0.69129 - accuracy: 0.51010\n"
     ]
    },
    {
     "name": "stderr",
     "output_type": "stream",
     "text": [
      "Epoch 17 - Loss: 0.69271: 100%|██████████| 50/50 [00:01<00:00, 28.13it/s]\n"
     ]
    },
    {
     "name": "stdout",
     "output_type": "stream",
     "text": [
      "Loss at epoch 17: 0.69271 - Train accuracy: 0.52652 - Validation loss: 0.69624 - accuracy: 0.46970\n"
     ]
    },
    {
     "name": "stderr",
     "output_type": "stream",
     "text": [
      "Epoch 18 - Loss: 0.69572: 100%|██████████| 50/50 [00:02<00:00, 24.23it/s]\n"
     ]
    },
    {
     "name": "stdout",
     "output_type": "stream",
     "text": [
      "Loss at epoch 18: 0.69572 - Train accuracy: 0.52904 - Validation loss: 0.69835 - accuracy: 0.49495\n"
     ]
    },
    {
     "name": "stderr",
     "output_type": "stream",
     "text": [
      "Epoch 19 - Loss: 0.69538: 100%|██████████| 50/50 [00:01<00:00, 25.09it/s]\n"
     ]
    },
    {
     "name": "stdout",
     "output_type": "stream",
     "text": [
      "Loss at epoch 19: 0.69538 - Train accuracy: 0.48737 - Validation loss: 0.69178 - accuracy: 0.51515\n"
     ]
    },
    {
     "name": "stderr",
     "output_type": "stream",
     "text": [
      "Epoch 20 - Loss: 0.69292: 100%|██████████| 50/50 [00:02<00:00, 22.36it/s]\n"
     ]
    },
    {
     "name": "stdout",
     "output_type": "stream",
     "text": [
      "Loss at epoch 20: 0.69292 - Train accuracy: 0.52399 - Validation loss: 0.69355 - accuracy: 0.53535\n"
     ]
    },
    {
     "name": "stderr",
     "output_type": "stream",
     "text": [
      "Epoch 21 - Loss: 0.69519: 100%|██████████| 50/50 [00:02<00:00, 20.07it/s]\n"
     ]
    },
    {
     "name": "stdout",
     "output_type": "stream",
     "text": [
      "Loss at epoch 21: 0.69519 - Train accuracy: 0.46212 - Validation loss: 0.69220 - accuracy: 0.48990\n"
     ]
    },
    {
     "name": "stderr",
     "output_type": "stream",
     "text": [
      "Epoch 22 - Loss: 0.69161: 100%|██████████| 50/50 [00:02<00:00, 16.98it/s]\n"
     ]
    },
    {
     "name": "stdout",
     "output_type": "stream",
     "text": [
      "Loss at epoch 22: 0.69161 - Train accuracy: 0.49369 - Validation loss: 0.69804 - accuracy: 0.55051\n"
     ]
    },
    {
     "name": "stderr",
     "output_type": "stream",
     "text": [
      "Epoch 23 - Loss: 0.69192: 100%|██████████| 50/50 [00:02<00:00, 16.84it/s]\n"
     ]
    },
    {
     "name": "stdout",
     "output_type": "stream",
     "text": [
      "Loss at epoch 23: 0.69192 - Train accuracy: 0.51389 - Validation loss: 0.69005 - accuracy: 0.50505\n"
     ]
    },
    {
     "name": "stderr",
     "output_type": "stream",
     "text": [
      "Epoch 24 - Loss: 0.69557: 100%|██████████| 50/50 [00:02<00:00, 19.93it/s]\n"
     ]
    },
    {
     "name": "stdout",
     "output_type": "stream",
     "text": [
      "Loss at epoch 24: 0.69557 - Train accuracy: 0.48990 - Validation loss: 0.70348 - accuracy: 0.46465\n"
     ]
    },
    {
     "name": "stderr",
     "output_type": "stream",
     "text": [
      "Epoch 25 - Loss: 0.69475: 100%|██████████| 50/50 [00:02<00:00, 16.97it/s]\n"
     ]
    },
    {
     "name": "stdout",
     "output_type": "stream",
     "text": [
      "Loss at epoch 25: 0.69475 - Train accuracy: 0.49621 - Validation loss: 0.70134 - accuracy: 0.42424\n"
     ]
    },
    {
     "name": "stderr",
     "output_type": "stream",
     "text": [
      "Epoch 26 - Loss: 0.69577: 100%|██████████| 50/50 [00:02<00:00, 17.86it/s]\n"
     ]
    },
    {
     "name": "stdout",
     "output_type": "stream",
     "text": [
      "Loss at epoch 26: 0.69577 - Train accuracy: 0.49369 - Validation loss: 0.69211 - accuracy: 0.52020\n"
     ]
    },
    {
     "name": "stderr",
     "output_type": "stream",
     "text": [
      "Epoch 27 - Loss: 0.69405: 100%|██████████| 50/50 [00:02<00:00, 20.77it/s]\n"
     ]
    },
    {
     "name": "stdout",
     "output_type": "stream",
     "text": [
      "Loss at epoch 27: 0.69405 - Train accuracy: 0.50758 - Validation loss: 0.69090 - accuracy: 0.50000\n"
     ]
    },
    {
     "name": "stderr",
     "output_type": "stream",
     "text": [
      "Epoch 28 - Loss: 0.69296: 100%|██████████| 50/50 [00:02<00:00, 19.65it/s]\n"
     ]
    },
    {
     "name": "stdout",
     "output_type": "stream",
     "text": [
      "Loss at epoch 28: 0.69296 - Train accuracy: 0.51894 - Validation loss: 0.69299 - accuracy: 0.48485\n"
     ]
    },
    {
     "name": "stderr",
     "output_type": "stream",
     "text": [
      "Epoch 29 - Loss: 0.69429: 100%|██████████| 50/50 [00:02<00:00, 19.68it/s]\n"
     ]
    },
    {
     "name": "stdout",
     "output_type": "stream",
     "text": [
      "Loss at epoch 29: 0.69429 - Train accuracy: 0.49495 - Validation loss: 0.69019 - accuracy: 0.50000\n"
     ]
    },
    {
     "name": "stderr",
     "output_type": "stream",
     "text": [
      "Epoch 30 - Loss: 0.69577: 100%|██████████| 50/50 [00:03<00:00, 16.44it/s]\n"
     ]
    },
    {
     "name": "stdout",
     "output_type": "stream",
     "text": [
      "Loss at epoch 30: 0.69577 - Train accuracy: 0.51894 - Validation loss: 0.69393 - accuracy: 0.51010\n"
     ]
    },
    {
     "name": "stderr",
     "output_type": "stream",
     "text": [
      "Epoch 31 - Loss: 0.69000: 100%|██████████| 50/50 [00:02<00:00, 16.71it/s]\n"
     ]
    },
    {
     "name": "stdout",
     "output_type": "stream",
     "text": [
      "Loss at epoch 31: 0.69000 - Train accuracy: 0.47222 - Validation loss: 0.69372 - accuracy: 0.43939\n"
     ]
    },
    {
     "name": "stderr",
     "output_type": "stream",
     "text": [
      "Epoch 32 - Loss: 0.69123: 100%|██████████| 50/50 [00:02<00:00, 22.90it/s]\n"
     ]
    },
    {
     "name": "stdout",
     "output_type": "stream",
     "text": [
      "Loss at epoch 32: 0.69123 - Train accuracy: 0.49621 - Validation loss: 0.69509 - accuracy: 0.46465\n"
     ]
    },
    {
     "name": "stderr",
     "output_type": "stream",
     "text": [
      "Epoch 33 - Loss: 0.69204: 100%|██████████| 50/50 [00:03<00:00, 16.50it/s]\n"
     ]
    },
    {
     "name": "stdout",
     "output_type": "stream",
     "text": [
      "Loss at epoch 33: 0.69204 - Train accuracy: 0.50631 - Validation loss: 0.69917 - accuracy: 0.56061\n"
     ]
    },
    {
     "name": "stderr",
     "output_type": "stream",
     "text": [
      "Epoch 34 - Loss: 0.69456: 100%|██████████| 50/50 [00:02<00:00, 17.91it/s]\n"
     ]
    },
    {
     "name": "stdout",
     "output_type": "stream",
     "text": [
      "Loss at epoch 34: 0.69456 - Train accuracy: 0.51768 - Validation loss: 0.69888 - accuracy: 0.51515\n"
     ]
    },
    {
     "name": "stderr",
     "output_type": "stream",
     "text": [
      "Epoch 35 - Loss: 0.69518: 100%|██████████| 50/50 [00:02<00:00, 19.56it/s]\n"
     ]
    },
    {
     "name": "stdout",
     "output_type": "stream",
     "text": [
      "Loss at epoch 35: 0.69518 - Train accuracy: 0.50126 - Validation loss: 0.69635 - accuracy: 0.48485\n"
     ]
    },
    {
     "name": "stderr",
     "output_type": "stream",
     "text": [
      "Epoch 36 - Loss: 0.69511: 100%|██████████| 50/50 [00:02<00:00, 20.19it/s]\n"
     ]
    },
    {
     "name": "stdout",
     "output_type": "stream",
     "text": [
      "Loss at epoch 36: 0.69511 - Train accuracy: 0.50379 - Validation loss: 0.69078 - accuracy: 0.49495\n"
     ]
    },
    {
     "name": "stderr",
     "output_type": "stream",
     "text": [
      "Epoch 37 - Loss: 0.69411: 100%|██████████| 50/50 [00:02<00:00, 18.46it/s]\n"
     ]
    },
    {
     "name": "stdout",
     "output_type": "stream",
     "text": [
      "Loss at epoch 37: 0.69411 - Train accuracy: 0.46717 - Validation loss: 0.69857 - accuracy: 0.48990\n"
     ]
    },
    {
     "name": "stderr",
     "output_type": "stream",
     "text": [
      "Epoch 38 - Loss: 0.69420: 100%|██████████| 50/50 [00:02<00:00, 19.96it/s]\n"
     ]
    },
    {
     "name": "stdout",
     "output_type": "stream",
     "text": [
      "Loss at epoch 38: 0.69420 - Train accuracy: 0.49369 - Validation loss: 0.69381 - accuracy: 0.51515\n"
     ]
    },
    {
     "name": "stderr",
     "output_type": "stream",
     "text": [
      "Epoch 39 - Loss: 0.69649: 100%|██████████| 50/50 [00:02<00:00, 18.69it/s]\n"
     ]
    },
    {
     "name": "stdout",
     "output_type": "stream",
     "text": [
      "Loss at epoch 39: 0.69649 - Train accuracy: 0.51389 - Validation loss: 0.68921 - accuracy: 0.47980\n"
     ]
    },
    {
     "name": "stderr",
     "output_type": "stream",
     "text": [
      "Epoch 40 - Loss: 0.69671: 100%|██████████| 50/50 [00:02<00:00, 20.03it/s]\n"
     ]
    },
    {
     "name": "stdout",
     "output_type": "stream",
     "text": [
      "Loss at epoch 40: 0.69671 - Train accuracy: 0.48737 - Validation loss: 0.69100 - accuracy: 0.56061\n"
     ]
    },
    {
     "name": "stderr",
     "output_type": "stream",
     "text": [
      "Epoch 41 - Loss: 0.69511: 100%|██████████| 50/50 [00:02<00:00, 23.41it/s]\n"
     ]
    },
    {
     "name": "stdout",
     "output_type": "stream",
     "text": [
      "Loss at epoch 41: 0.69511 - Train accuracy: 0.51894 - Validation loss: 0.70057 - accuracy: 0.49495\n"
     ]
    },
    {
     "name": "stderr",
     "output_type": "stream",
     "text": [
      "Epoch 42 - Loss: 0.69396: 100%|██████████| 50/50 [00:02<00:00, 17.66it/s]\n"
     ]
    },
    {
     "name": "stdout",
     "output_type": "stream",
     "text": [
      "Loss at epoch 42: 0.69396 - Train accuracy: 0.49874 - Validation loss: 0.69402 - accuracy: 0.55556\n"
     ]
    },
    {
     "name": "stderr",
     "output_type": "stream",
     "text": [
      "Epoch 43 - Loss: 0.69411: 100%|██████████| 50/50 [00:02<00:00, 18.84it/s]\n"
     ]
    },
    {
     "name": "stdout",
     "output_type": "stream",
     "text": [
      "Loss at epoch 43: 0.69411 - Train accuracy: 0.51768 - Validation loss: 0.69516 - accuracy: 0.50505\n"
     ]
    },
    {
     "name": "stderr",
     "output_type": "stream",
     "text": [
      "Epoch 44 - Loss: 0.69364: 100%|██████████| 50/50 [00:02<00:00, 20.24it/s]\n"
     ]
    },
    {
     "name": "stdout",
     "output_type": "stream",
     "text": [
      "Loss at epoch 44: 0.69364 - Train accuracy: 0.51136 - Validation loss: 0.68785 - accuracy: 0.46970\n"
     ]
    },
    {
     "name": "stderr",
     "output_type": "stream",
     "text": [
      "Epoch 45 - Loss: 0.69639: 100%|██████████| 50/50 [00:03<00:00, 16.56it/s]\n"
     ]
    },
    {
     "name": "stdout",
     "output_type": "stream",
     "text": [
      "Loss at epoch 45: 0.69639 - Train accuracy: 0.51389 - Validation loss: 0.69682 - accuracy: 0.48485\n"
     ]
    },
    {
     "name": "stderr",
     "output_type": "stream",
     "text": [
      "Epoch 46 - Loss: 0.69226: 100%|██████████| 50/50 [00:02<00:00, 19.44it/s]\n"
     ]
    },
    {
     "name": "stdout",
     "output_type": "stream",
     "text": [
      "Loss at epoch 46: 0.69226 - Train accuracy: 0.51894 - Validation loss: 0.69285 - accuracy: 0.45455\n"
     ]
    },
    {
     "name": "stderr",
     "output_type": "stream",
     "text": [
      "Epoch 47 - Loss: 0.69597: 100%|██████████| 50/50 [00:03<00:00, 16.55it/s]\n"
     ]
    },
    {
     "name": "stdout",
     "output_type": "stream",
     "text": [
      "Loss at epoch 47: 0.69597 - Train accuracy: 0.50000 - Validation loss: 0.69373 - accuracy: 0.51010\n"
     ]
    },
    {
     "name": "stderr",
     "output_type": "stream",
     "text": [
      "Epoch 48 - Loss: 0.69452: 100%|██████████| 50/50 [00:02<00:00, 18.38it/s]\n"
     ]
    },
    {
     "name": "stdout",
     "output_type": "stream",
     "text": [
      "Loss at epoch 48: 0.69452 - Train accuracy: 0.50000 - Validation loss: 0.69089 - accuracy: 0.55556\n"
     ]
    },
    {
     "name": "stderr",
     "output_type": "stream",
     "text": [
      "Epoch 49 - Loss: 0.69445: 100%|██████████| 50/50 [00:02<00:00, 17.70it/s]\n"
     ]
    },
    {
     "name": "stdout",
     "output_type": "stream",
     "text": [
      "Loss at epoch 49: 0.69445 - Train accuracy: 0.50631 - Validation loss: 0.69803 - accuracy: 0.51010\n"
     ]
    },
    {
     "name": "stderr",
     "output_type": "stream",
     "text": [
      "Epoch 50 - Loss: 0.69504: 100%|██████████| 50/50 [00:02<00:00, 18.07it/s]\n"
     ]
    },
    {
     "name": "stdout",
     "output_type": "stream",
     "text": [
      "Loss at epoch 50: 0.69504 - Train accuracy: 0.52020 - Validation loss: 0.69338 - accuracy: 0.55556\n"
     ]
    }
   ],
   "source": [
    "val_set = (X_val, y_val)\n",
    "\n",
    "model = Model(optimizer=optimizer, layers=archs, loss_func=loss_func)\n",
    "train_losses, val_losses, train_accs, val_accs = model.fit(X_train, y_train, val_set, batch_size=16, epochs=EPOCHS)\n",
    "\n",
    "# import pickle\n",
    "# with open(\"nn_weights.pkl\", \"wb\") as f:\n",
    "#     pickle.dump(model, f, pickle.HIGHEST_PROTOCOL)"
   ]
  },
  {
   "cell_type": "code",
   "execution_count": 22,
   "metadata": {},
   "outputs": [
    {
     "data": {
      "image/png": "[encoded data removed]",
      "text/plain": [
       "<Figure size 432x288 with 1 Axes>"
      ]
     },
     "metadata": {
      "needs_background": "light"
     },
     "output_type": "display_data"
    }
   ],
   "source": [
    "plt.plot(range(EPOCHS), train_losses, label='training')\n",
    "plt.plot(range(EPOCHS), val_losses, label='validation', color='orange')\n",
    "plt.ylabel('Cost')\n",
    "plt.xlabel('Epochs')\n",
    "plt.show()"
   ]
  },
  {
   "cell_type": "code",
   "execution_count": 23,
   "metadata": {},
   "outputs": [
    {
     "data": {
      "image/png": "[encoded data removed]",
      "text/plain": [
       "<Figure size 432x288 with 1 Axes>"
      ]
     },
     "metadata": {
      "needs_background": "light"
     },
     "output_type": "display_data"
    }
   ],
   "source": [
    "plt.plot(range(EPOCHS), train_accs, label='training')\n",
    "plt.plot(range(EPOCHS), val_accs, label='validation', color='orange')\n",
    "plt.ylabel('Accuracy')\n",
    "plt.xlabel('Epochs')\n",
    "plt.show()"
   ]
  },
  {
   "cell_type": "code",
   "execution_count": 30,
   "metadata": {},
   "outputs": [
    {
     "name": "stdout",
     "output_type": "stream",
     "text": [
      "Accuracy: 0.5555555555555556\n"
     ]
    }
   ],
   "source": [
    "pred = model.predict(X_val)\n",
    "print(\"Accuracy:\", len(pred[y_val[:,1] == pred]) / len(pred))\n",
    "from sklearn.metrics import confusion_matrix\n",
    "array = confusion_matrix(y_val[:,1], pred)"
   ]
  },
  {
   "cell_type": "code",
   "execution_count": 33,
   "metadata": {},
   "outputs": [
    {
     "data": {
      "image/png": "[encoded data removed]",
      "text/plain": [
       "<Figure size 576x432 with 2 Axes>"
      ]
     },
     "metadata": {
      "needs_background": "light"
     },
     "output_type": "display_data"
    }
   ],
   "source": [
    "plot_confusion_matrix(cm           = array,\n",
    "                      normalize    = False,\n",
    "                      target_names = ['0', '1'],\n",
    "                      title        = \"Confusion Matrix\")"
   ]
  }
 ],
 "metadata": {
  "hide_input": false,
  "kernelspec": {
   "display_name": "Python 3",
   "language": "python",
   "name": "python3"
  },
  "language_info": {
   "codemirror_mode": {
    "name": "ipython",
    "version": 3
   },
   "file_extension": ".py",
   "mimetype": "text/x-python",
   "name": "python",
   "nbconvert_exporter": "python",
   "pygments_lexer": "ipython3",
   "version": "3.6.9"
  },
  "toc": {
   "base_numbering": 1,
   "nav_menu": {},
   "number_sections": true,
   "sideBar": true,
   "skip_h1_title": false,
   "title_cell": "Table of Contents",
   "title_sidebar": "Contents",
   "toc_cell": false,
   "toc_position": {},
   "toc_section_display": true,
   "toc_window_display": false
  }
 },
 "nbformat": 4,
 "nbformat_minor": 2
}
